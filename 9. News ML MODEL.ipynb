{
 "cells": [
  {
   "cell_type": "code",
   "execution_count": 1,
   "id": "6787a47c",
   "metadata": {},
   "outputs": [],
   "source": [
    "import pandas as pd\n",
    "import numpy as np\n",
    "# from wordcloud import WordCloud,STOPWORDS\n",
    "from sklearn.feature_extraction.text import TfidfVectorizer\n",
    "from sklearn.feature_selection import chi2\n",
    "from sklearn.model_selection import train_test_split\n",
    "from sklearn.linear_model import LogisticRegression\n",
    "from sklearn.ensemble import RandomForestClassifier\n",
    "from sklearn.svm import LinearSVC\n",
    "from sklearn.naive_bayes import GaussianNB\n",
    "from sklearn.model_selection import cross_val_score\n",
    "from sklearn.metrics import confusion_matrix\n",
    "from sklearn import metrics\n",
    "import matplotlib.pyplot as plt"
   ]
  },
  {
   "cell_type": "code",
   "execution_count": 4,
   "id": "bdb50586",
   "metadata": {},
   "outputs": [],
   "source": [
    "# df1=pd.read_csv(\"D:/LY PROJECT/dataset/techdata.csv\")\n",
    "df1=pd.read_csv(\"D:/LY PROJECT/dataset/scsmotetech.csv\")\n",
    "# df3=pd.read_csv(\"D:/LY PROJECT/dataset/datawithcossmote.csv\")"
   ]
  },
  {
   "cell_type": "code",
   "execution_count": 5,
   "id": "c25533ce",
   "metadata": {
    "scrolled": true
   },
   "outputs": [
    {
     "data": {
      "text/html": [
       "<div>\n",
       "<style scoped>\n",
       "    .dataframe tbody tr th:only-of-type {\n",
       "        vertical-align: middle;\n",
       "    }\n",
       "\n",
       "    .dataframe tbody tr th {\n",
       "        vertical-align: top;\n",
       "    }\n",
       "\n",
       "    .dataframe thead th {\n",
       "        text-align: right;\n",
       "    }\n",
       "</style>\n",
       "<table border=\"1\" class=\"dataframe\">\n",
       "  <thead>\n",
       "    <tr style=\"text-align: right;\">\n",
       "      <th></th>\n",
       "      <th>Unnamed: 0</th>\n",
       "      <th>category</th>\n",
       "      <th>text</th>\n",
       "      <th>cleaned_text</th>\n",
       "      <th>no of matched keywords</th>\n",
       "      <th>words matched</th>\n",
       "      <th>percent</th>\n",
       "      <th>category_predicted</th>\n",
       "    </tr>\n",
       "  </thead>\n",
       "  <tbody>\n",
       "    <tr>\n",
       "      <th>0</th>\n",
       "      <td>0</td>\n",
       "      <td>tech</td>\n",
       "      <td>tv future in the hands of viewers with home th...</td>\n",
       "      <td>tv future hand viewer home theatre system plas...</td>\n",
       "      <td>68</td>\n",
       "      <td>['tv', 'system', 'tv', 'digital', 'video', 'ro...</td>\n",
       "      <td>18.328841</td>\n",
       "      <td>technology</td>\n",
       "    </tr>\n",
       "    <tr>\n",
       "      <th>1</th>\n",
       "      <td>1</td>\n",
       "      <td>not technical</td>\n",
       "      <td>worldcom boss  left books alone  former worldc...</td>\n",
       "      <td>worldcom boss leave book worldcom boss bernie ...</td>\n",
       "      <td>2</td>\n",
       "      <td>['phone', 'company']</td>\n",
       "      <td>1.162791</td>\n",
       "      <td>not technology</td>\n",
       "    </tr>\n",
       "  </tbody>\n",
       "</table>\n",
       "</div>"
      ],
      "text/plain": [
       "   Unnamed: 0       category  \\\n",
       "0           0           tech   \n",
       "1           1  not technical   \n",
       "\n",
       "                                                text  \\\n",
       "0  tv future in the hands of viewers with home th...   \n",
       "1  worldcom boss  left books alone  former worldc...   \n",
       "\n",
       "                                        cleaned_text  no of matched keywords  \\\n",
       "0  tv future hand viewer home theatre system plas...                      68   \n",
       "1  worldcom boss leave book worldcom boss bernie ...                       2   \n",
       "\n",
       "                                       words matched    percent  \\\n",
       "0  ['tv', 'system', 'tv', 'digital', 'video', 'ro...  18.328841   \n",
       "1                               ['phone', 'company']   1.162791   \n",
       "\n",
       "  category_predicted  \n",
       "0         technology  \n",
       "1     not technology  "
      ]
     },
     "execution_count": 5,
     "metadata": {},
     "output_type": "execute_result"
    }
   ],
   "source": [
    "df1.head(2)"
   ]
  },
  {
   "cell_type": "code",
   "execution_count": 6,
   "id": "f2b3ba2e",
   "metadata": {},
   "outputs": [
    {
     "data": {
      "text/plain": [
       "not technical    1824\n",
       "tech              401\n",
       "Name: category, dtype: int64"
      ]
     },
     "execution_count": 6,
     "metadata": {},
     "output_type": "execute_result"
    }
   ],
   "source": [
    "df1['category'].value_counts()"
   ]
  },
  {
   "cell_type": "code",
   "execution_count": 7,
   "id": "775fa8d9",
   "metadata": {},
   "outputs": [
    {
     "data": {
      "text/plain": [
       "not technology    1829\n",
       "technology         396\n",
       "Name: category_predicted, dtype: int64"
      ]
     },
     "execution_count": 7,
     "metadata": {},
     "output_type": "execute_result"
    }
   ],
   "source": [
    "df1['category_predicted'].value_counts()"
   ]
  },
  {
   "cell_type": "markdown",
   "id": "ed139fbc",
   "metadata": {},
   "source": [
    "<H3>DATA CLEANING</H3>"
   ]
  },
  {
   "cell_type": "code",
   "execution_count": 8,
   "id": "d96eee5e",
   "metadata": {},
   "outputs": [
    {
     "data": {
      "text/html": [
       "<div>\n",
       "<style scoped>\n",
       "    .dataframe tbody tr th:only-of-type {\n",
       "        vertical-align: middle;\n",
       "    }\n",
       "\n",
       "    .dataframe tbody tr th {\n",
       "        vertical-align: top;\n",
       "    }\n",
       "\n",
       "    .dataframe thead th {\n",
       "        text-align: right;\n",
       "    }\n",
       "</style>\n",
       "<table border=\"1\" class=\"dataframe\">\n",
       "  <thead>\n",
       "    <tr style=\"text-align: right;\">\n",
       "      <th></th>\n",
       "      <th>category</th>\n",
       "      <th>cleaned_text</th>\n",
       "      <th>category_predicted</th>\n",
       "    </tr>\n",
       "  </thead>\n",
       "  <tbody>\n",
       "    <tr>\n",
       "      <th>0</th>\n",
       "      <td>tech</td>\n",
       "      <td>tv future hand viewer home theatre system plas...</td>\n",
       "      <td>technology</td>\n",
       "    </tr>\n",
       "    <tr>\n",
       "      <th>1</th>\n",
       "      <td>not technical</td>\n",
       "      <td>worldcom boss leave book worldcom boss bernie ...</td>\n",
       "      <td>not technology</td>\n",
       "    </tr>\n",
       "    <tr>\n",
       "      <th>2</th>\n",
       "      <td>not technical</td>\n",
       "      <td>tiger wary farrell gamble leicester rush make ...</td>\n",
       "      <td>not technology</td>\n",
       "    </tr>\n",
       "    <tr>\n",
       "      <th>3</th>\n",
       "      <td>not technical</td>\n",
       "      <td>yeade face newcastle fa cup premiership newcas...</td>\n",
       "      <td>not technology</td>\n",
       "    </tr>\n",
       "    <tr>\n",
       "      <th>4</th>\n",
       "      <td>not technical</td>\n",
       "      <td>ocean s raid box office ocean s crime caper se...</td>\n",
       "      <td>not technology</td>\n",
       "    </tr>\n",
       "    <tr>\n",
       "      <th>...</th>\n",
       "      <td>...</td>\n",
       "      <td>...</td>\n",
       "      <td>...</td>\n",
       "    </tr>\n",
       "    <tr>\n",
       "      <th>2220</th>\n",
       "      <td>not technical</td>\n",
       "      <td>car pull retail figure retail sale fall januar...</td>\n",
       "      <td>not technology</td>\n",
       "    </tr>\n",
       "    <tr>\n",
       "      <th>2221</th>\n",
       "      <td>not technical</td>\n",
       "      <td>kilroy unveil immigration policy ex chatshow h...</td>\n",
       "      <td>not technology</td>\n",
       "    </tr>\n",
       "    <tr>\n",
       "      <th>2222</th>\n",
       "      <td>not technical</td>\n",
       "      <td>rem announce new glasgow concert band rem anno...</td>\n",
       "      <td>not technology</td>\n",
       "    </tr>\n",
       "    <tr>\n",
       "      <th>2223</th>\n",
       "      <td>not technical</td>\n",
       "      <td>political squabble snowball s commonplace argu...</td>\n",
       "      <td>not technology</td>\n",
       "    </tr>\n",
       "    <tr>\n",
       "      <th>2224</th>\n",
       "      <td>not technical</td>\n",
       "      <td>souness delight euro progress boss graeme soun...</td>\n",
       "      <td>not technology</td>\n",
       "    </tr>\n",
       "  </tbody>\n",
       "</table>\n",
       "<p>2225 rows × 3 columns</p>\n",
       "</div>"
      ],
      "text/plain": [
       "           category                                       cleaned_text  \\\n",
       "0              tech  tv future hand viewer home theatre system plas...   \n",
       "1     not technical  worldcom boss leave book worldcom boss bernie ...   \n",
       "2     not technical  tiger wary farrell gamble leicester rush make ...   \n",
       "3     not technical  yeade face newcastle fa cup premiership newcas...   \n",
       "4     not technical  ocean s raid box office ocean s crime caper se...   \n",
       "...             ...                                                ...   \n",
       "2220  not technical  car pull retail figure retail sale fall januar...   \n",
       "2221  not technical  kilroy unveil immigration policy ex chatshow h...   \n",
       "2222  not technical  rem announce new glasgow concert band rem anno...   \n",
       "2223  not technical  political squabble snowball s commonplace argu...   \n",
       "2224  not technical  souness delight euro progress boss graeme soun...   \n",
       "\n",
       "     category_predicted  \n",
       "0            technology  \n",
       "1        not technology  \n",
       "2        not technology  \n",
       "3        not technology  \n",
       "4        not technology  \n",
       "...                 ...  \n",
       "2220     not technology  \n",
       "2221     not technology  \n",
       "2222     not technology  \n",
       "2223     not technology  \n",
       "2224     not technology  \n",
       "\n",
       "[2225 rows x 3 columns]"
      ]
     },
     "execution_count": 8,
     "metadata": {},
     "output_type": "execute_result"
    }
   ],
   "source": [
    "df=df1[[\"category\",\"cleaned_text\",\"category_predicted\"]]\n",
    "df"
   ]
  },
  {
   "cell_type": "code",
   "execution_count": 9,
   "id": "48c0451c",
   "metadata": {},
   "outputs": [
    {
     "name": "stderr",
     "output_type": "stream",
     "text": [
      "C:\\Users\\hetul\\AppData\\Local\\Temp/ipykernel_14252/3596375301.py:1: SettingWithCopyWarning: \n",
      "A value is trying to be set on a copy of a slice from a DataFrame.\n",
      "Try using .loc[row_indexer,col_indexer] = value instead\n",
      "\n",
      "See the caveats in the documentation: https://pandas.pydata.org/pandas-docs/stable/user_guide/indexing.html#returning-a-view-versus-a-copy\n",
      "  df['cat_id']=df1['category']\n",
      "C:\\Users\\hetul\\AppData\\Local\\Temp/ipykernel_14252/3596375301.py:2: SettingWithCopyWarning: \n",
      "A value is trying to be set on a copy of a slice from a DataFrame.\n",
      "Try using .loc[row_indexer,col_indexer] = value instead\n",
      "\n",
      "See the caveats in the documentation: https://pandas.pydata.org/pandas-docs/stable/user_guide/indexing.html#returning-a-view-versus-a-copy\n",
      "  df['cat_id_smote']=df2['category_predicted']\n",
      "C:\\Users\\hetul\\AppData\\Local\\Programs\\Python\\Python310\\lib\\site-packages\\pandas\\core\\generic.py:6619: SettingWithCopyWarning: \n",
      "A value is trying to be set on a copy of a slice from a DataFrame\n",
      "\n",
      "See the caveats in the documentation: https://pandas.pydata.org/pandas-docs/stable/user_guide/indexing.html#returning-a-view-versus-a-copy\n",
      "  return self._update_inplace(result)\n"
     ]
    },
    {
     "data": {
      "text/html": [
       "<div>\n",
       "<style scoped>\n",
       "    .dataframe tbody tr th:only-of-type {\n",
       "        vertical-align: middle;\n",
       "    }\n",
       "\n",
       "    .dataframe tbody tr th {\n",
       "        vertical-align: top;\n",
       "    }\n",
       "\n",
       "    .dataframe thead th {\n",
       "        text-align: right;\n",
       "    }\n",
       "</style>\n",
       "<table border=\"1\" class=\"dataframe\">\n",
       "  <thead>\n",
       "    <tr style=\"text-align: right;\">\n",
       "      <th></th>\n",
       "      <th>category</th>\n",
       "      <th>cleaned_text</th>\n",
       "      <th>category_predicted</th>\n",
       "      <th>cat_id</th>\n",
       "      <th>cat_id_smote</th>\n",
       "    </tr>\n",
       "  </thead>\n",
       "  <tbody>\n",
       "    <tr>\n",
       "      <th>0</th>\n",
       "      <td>tech</td>\n",
       "      <td>tv future hand viewer home theatre system plas...</td>\n",
       "      <td>technology</td>\n",
       "      <td>1</td>\n",
       "      <td>1</td>\n",
       "    </tr>\n",
       "    <tr>\n",
       "      <th>1</th>\n",
       "      <td>not technical</td>\n",
       "      <td>worldcom boss leave book worldcom boss bernie ...</td>\n",
       "      <td>not technology</td>\n",
       "      <td>0</td>\n",
       "      <td>0</td>\n",
       "    </tr>\n",
       "    <tr>\n",
       "      <th>2</th>\n",
       "      <td>not technical</td>\n",
       "      <td>tiger wary farrell gamble leicester rush make ...</td>\n",
       "      <td>not technology</td>\n",
       "      <td>0</td>\n",
       "      <td>0</td>\n",
       "    </tr>\n",
       "    <tr>\n",
       "      <th>3</th>\n",
       "      <td>not technical</td>\n",
       "      <td>yeade face newcastle fa cup premiership newcas...</td>\n",
       "      <td>not technology</td>\n",
       "      <td>0</td>\n",
       "      <td>0</td>\n",
       "    </tr>\n",
       "    <tr>\n",
       "      <th>4</th>\n",
       "      <td>not technical</td>\n",
       "      <td>ocean s raid box office ocean s crime caper se...</td>\n",
       "      <td>not technology</td>\n",
       "      <td>0</td>\n",
       "      <td>0</td>\n",
       "    </tr>\n",
       "    <tr>\n",
       "      <th>...</th>\n",
       "      <td>...</td>\n",
       "      <td>...</td>\n",
       "      <td>...</td>\n",
       "      <td>...</td>\n",
       "      <td>...</td>\n",
       "    </tr>\n",
       "    <tr>\n",
       "      <th>2220</th>\n",
       "      <td>not technical</td>\n",
       "      <td>car pull retail figure retail sale fall januar...</td>\n",
       "      <td>not technology</td>\n",
       "      <td>0</td>\n",
       "      <td>0</td>\n",
       "    </tr>\n",
       "    <tr>\n",
       "      <th>2221</th>\n",
       "      <td>not technical</td>\n",
       "      <td>kilroy unveil immigration policy ex chatshow h...</td>\n",
       "      <td>not technology</td>\n",
       "      <td>0</td>\n",
       "      <td>0</td>\n",
       "    </tr>\n",
       "    <tr>\n",
       "      <th>2222</th>\n",
       "      <td>not technical</td>\n",
       "      <td>rem announce new glasgow concert band rem anno...</td>\n",
       "      <td>not technology</td>\n",
       "      <td>0</td>\n",
       "      <td>0</td>\n",
       "    </tr>\n",
       "    <tr>\n",
       "      <th>2223</th>\n",
       "      <td>not technical</td>\n",
       "      <td>political squabble snowball s commonplace argu...</td>\n",
       "      <td>not technology</td>\n",
       "      <td>0</td>\n",
       "      <td>0</td>\n",
       "    </tr>\n",
       "    <tr>\n",
       "      <th>2224</th>\n",
       "      <td>not technical</td>\n",
       "      <td>souness delight euro progress boss graeme soun...</td>\n",
       "      <td>not technology</td>\n",
       "      <td>0</td>\n",
       "      <td>0</td>\n",
       "    </tr>\n",
       "  </tbody>\n",
       "</table>\n",
       "<p>2225 rows × 5 columns</p>\n",
       "</div>"
      ],
      "text/plain": [
       "           category                                       cleaned_text  \\\n",
       "0              tech  tv future hand viewer home theatre system plas...   \n",
       "1     not technical  worldcom boss leave book worldcom boss bernie ...   \n",
       "2     not technical  tiger wary farrell gamble leicester rush make ...   \n",
       "3     not technical  yeade face newcastle fa cup premiership newcas...   \n",
       "4     not technical  ocean s raid box office ocean s crime caper se...   \n",
       "...             ...                                                ...   \n",
       "2220  not technical  car pull retail figure retail sale fall januar...   \n",
       "2221  not technical  kilroy unveil immigration policy ex chatshow h...   \n",
       "2222  not technical  rem announce new glasgow concert band rem anno...   \n",
       "2223  not technical  political squabble snowball s commonplace argu...   \n",
       "2224  not technical  souness delight euro progress boss graeme soun...   \n",
       "\n",
       "     category_predicted  cat_id  cat_id_smote  \n",
       "0            technology       1             1  \n",
       "1        not technology       0             0  \n",
       "2        not technology       0             0  \n",
       "3        not technology       0             0  \n",
       "4        not technology       0             0  \n",
       "...                 ...     ...           ...  \n",
       "2220     not technology       0             0  \n",
       "2221     not technology       0             0  \n",
       "2222     not technology       0             0  \n",
       "2223     not technology       0             0  \n",
       "2224     not technology       0             0  \n",
       "\n",
       "[2225 rows x 5 columns]"
      ]
     },
     "execution_count": 9,
     "metadata": {},
     "output_type": "execute_result"
    }
   ],
   "source": [
    "df['cat_id']=df1['category']\n",
    "df['cat_id_smote']=df2['category_predicted']\n",
    "df['cat_id'].replace({'tech':1,\"not technical\":0},inplace=True)\n",
    "df['cat_id_smote'].replace({'technology':1,\"not technology\":0},inplace=True)\n",
    "df"
   ]
  },
  {
   "cell_type": "code",
   "execution_count": 10,
   "id": "b1d4c134",
   "metadata": {
    "scrolled": true
   },
   "outputs": [
    {
     "data": {
      "text/plain": [
       "0    1824\n",
       "1     401\n",
       "Name: cat_id, dtype: int64"
      ]
     },
     "execution_count": 10,
     "metadata": {},
     "output_type": "execute_result"
    }
   ],
   "source": [
    "df.cat_id.value_counts()"
   ]
  },
  {
   "cell_type": "code",
   "execution_count": 11,
   "id": "2a1607bc",
   "metadata": {},
   "outputs": [
    {
     "data": {
      "text/plain": [
       "0    1829\n",
       "1     396\n",
       "Name: cat_id_smote, dtype: int64"
      ]
     },
     "execution_count": 11,
     "metadata": {},
     "output_type": "execute_result"
    }
   ],
   "source": [
    "df.cat_id_smote.value_counts()"
   ]
  },
  {
   "cell_type": "code",
   "execution_count": null,
   "id": "7f215870",
   "metadata": {},
   "outputs": [],
   "source": [
    "# from wordcloud import WordCloud,STOPWORDS\n",
    "# plt.figure(figsize=(40,25))\n",
    "# subset = df1[df1['category']=='drug']\n",
    "# text = subset.cleaned_website_text.values\n",
    "# cloud1=WordCloud(stopwords=STOPWORDS,background_color='pink',colormap=\"Dark2\",collocations=False,width=2500,height=1800\n",
    "#                        ).generate(\" \".join(text))\n",
    "# plt.subplot(2,2,1)\n",
    "# plt.axis('off')\n",
    "# plt.title(\"Drugs\",fontsize=40)\n",
    "# plt.imshow(cloud1)\n",
    "# subset = df[df['category']=='non drug']\n",
    "# text = subset.cleaned_website_text.values\n",
    "# cloud2=WordCloud(stopwords=STOPWORDS,background_color='pink',colormap=\"Dark2\",collocations=False,width=2500,height=1800\n",
    "#                        ).generate(\" \".join(text))\n",
    "# plt.subplot(2,2,2)\n",
    "# plt.axis('off')\n",
    "# plt.title(\"Non-Drug\",fontsize=40)\n",
    "# plt.imshow(cloud2)"
   ]
  },
  {
   "cell_type": "code",
   "execution_count": 12,
   "id": "7452fbfe",
   "metadata": {},
   "outputs": [
    {
     "name": "stdout",
     "output_type": "stream",
     "text": [
      "Each of the 2225 text is represented by 6864 features (TF-IDF score of unigrams)\n"
     ]
    }
   ],
   "source": [
    "tfidf = TfidfVectorizer(sublinear_tf=True, min_df=5,ngram_range=(1, 1), stop_words='english')\n",
    "\n",
    "# We transform each cleaned_text into a vector\n",
    "features = tfidf.fit_transform(df.cleaned_text).toarray()\n",
    "\n",
    "print(\"Each of the %d text is represented by %d features (TF-IDF score of unigrams)\" %(features.shape))"
   ]
  },
  {
   "cell_type": "code",
   "execution_count": 13,
   "id": "35dd8eec",
   "metadata": {},
   "outputs": [],
   "source": [
    "labels_2 = df.cat_id_smote\n",
    "labels_1 = df.cat_id"
   ]
  },
  {
   "cell_type": "code",
   "execution_count": 14,
   "id": "d003dcb8",
   "metadata": {},
   "outputs": [],
   "source": [
    "model1 = LogisticRegression()\n",
    "model2 = RandomForestClassifier(n_estimators=100, max_depth=5, random_state=0)\n",
    "model3 = LinearSVC()"
   ]
  },
  {
   "cell_type": "code",
   "execution_count": 15,
   "id": "1b625370",
   "metadata": {
    "scrolled": false
   },
   "outputs": [
    {
     "name": "stdout",
     "output_type": "stream",
     "text": [
      "\n",
      "==>CLASSIFICATIION METRICS FOR DATA WITH SMOTE- LOGISTIC REGRESSION\n",
      "\n",
      "ACCURACY:  0.9245960502692998\n",
      "               precision    recall  f1-score   support\n",
      "\n",
      "         tech       0.97      0.60      0.74        99\n",
      "not technical       0.92      1.00      0.96       458\n",
      "\n",
      "     accuracy                           0.92       557\n",
      "    macro avg       0.94      0.80      0.85       557\n",
      " weighted avg       0.93      0.92      0.92       557\n",
      "\n"
     ]
    },
    {
     "data": {
      "image/png": "[encoded data removed]",
      "text/plain": [
       "<Figure size 432x288 with 2 Axes>"
      ]
     },
     "metadata": {
      "needs_background": "light"
     },
     "output_type": "display_data"
    },
    {
     "name": "stdout",
     "output_type": "stream",
     "text": [
      "\n",
      "==>CLASSIFICATIION METRICS FOR DATA WITH SMOTE- RANDOM FOREST\n",
      "\n",
      "ACCURACY:  0.8779174147217235\n",
      "               precision    recall  f1-score   support\n",
      "\n",
      "         tech       1.00      0.31      0.48        99\n",
      "not technical       0.87      1.00      0.93       458\n",
      "\n",
      "     accuracy                           0.88       557\n",
      "    macro avg       0.94      0.66      0.70       557\n",
      " weighted avg       0.89      0.88      0.85       557\n",
      "\n"
     ]
    },
    {
     "data": {
      "image/png": "[encoded data removed]",
      "text/plain": [
       "<Figure size 432x288 with 2 Axes>"
      ]
     },
     "metadata": {
      "needs_background": "light"
     },
     "output_type": "display_data"
    },
    {
     "name": "stdout",
     "output_type": "stream",
     "text": [
      "\n",
      "==>CLASSIFICATIION METRICS FOR DATA WITH SMOTE- SUPPORT VECTORS\n",
      "\n",
      "ACCURACY:  0.9587073608617595\n",
      "               precision    recall  f1-score   support\n",
      "\n",
      "         tech       0.92      0.84      0.88        99\n",
      "not technical       0.97      0.98      0.98       458\n",
      "\n",
      "     accuracy                           0.96       557\n",
      "    macro avg       0.94      0.91      0.93       557\n",
      " weighted avg       0.96      0.96      0.96       557\n",
      "\n"
     ]
    },
    {
     "data": {
      "image/png": "[encoded data removed]",
      "text/plain": [
       "<Figure size 432x288 with 2 Axes>"
      ]
     },
     "metadata": {
      "needs_background": "light"
     },
     "output_type": "display_data"
    }
   ],
   "source": [
    "X_train, X_test, y_train, y_test,indices_train,indices_test = train_test_split(features, labels_2,df.index, test_size=0.25, \n",
    "                                                               random_state=1,stratify=labels_2)\n",
    "model1.fit(X_train, y_train)\n",
    "y_pred_S1 = model1.predict(X_test)\n",
    "print('\\n==>CLASSIFICATIION METRICS FOR DATA WITH SMOTE- LOGISTIC REGRESSION\\n')\n",
    "print(\"ACCURACY: \",metrics.accuracy_score(y_test, y_pred_S1))\n",
    "# Classification report\n",
    "print(metrics.classification_report(y_test,y_pred_S1,labels=[1,0],target_names= df['category'].unique()))\n",
    "#Confusion matrix\n",
    "conf_mat = metrics.confusion_matrix(y_test, y_pred_S1)\n",
    "cm_display = metrics.ConfusionMatrixDisplay(confusion_matrix = conf_mat, display_labels = ['Non-drug','Drug'])\n",
    "cm_display.plot()\n",
    "plt.grid(False)\n",
    "plt.show()\n",
    "\n",
    "model2.fit(X_train, y_train)\n",
    "y_pred_S2 = model2.predict(X_test)\n",
    "print('\\n==>CLASSIFICATIION METRICS FOR DATA WITH SMOTE- RANDOM FOREST\\n')\n",
    "print(\"ACCURACY: \",metrics.accuracy_score(y_test, y_pred_S2))\n",
    "# Classification report\n",
    "print(metrics.classification_report(y_test,y_pred_S2,labels=[1,0],target_names= df['category'].unique()))\n",
    "#Confusion matrix\n",
    "conf_mat = metrics.confusion_matrix(y_test, y_pred_S2)\n",
    "cm_display = metrics.ConfusionMatrixDisplay(confusion_matrix = conf_mat, display_labels = ['Non-drug','Drug'])\n",
    "cm_display.plot()\n",
    "plt.grid(False)\n",
    "plt.show()\n",
    "\n",
    "model3.fit(X_train, y_train)\n",
    "y_pred_S3 = model3.predict(X_test)\n",
    "print('\\n==>CLASSIFICATIION METRICS FOR DATA WITH SMOTE- SUPPORT VECTORS\\n')\n",
    "print(\"ACCURACY: \",metrics.accuracy_score(y_test, y_pred_S3))\n",
    "# Classification report\n",
    "print(metrics.classification_report(y_test,y_pred_S3,labels=[1,0],target_names= df['category'].unique()))\n",
    "#Confusion matrix\n",
    "conf_mat = metrics.confusion_matrix(y_test, y_pred_S3)\n",
    "cm_display = metrics.ConfusionMatrixDisplay(confusion_matrix = conf_mat, display_labels = ['Non-drug','Drug'])\n",
    "cm_display.plot()\n",
    "plt.grid(False)\n",
    "plt.show()"
   ]
  },
  {
   "cell_type": "code",
   "execution_count": 16,
   "id": "0b1eef26",
   "metadata": {},
   "outputs": [
    {
     "data": {
      "image/png": "[encoded data removed]",
      "text/plain": [
       "<Figure size 576x396 with 1 Axes>"
      ]
     },
     "metadata": {},
     "output_type": "display_data"
    }
   ],
   "source": [
    "pred_prob1 = model1.predict_proba(X_test)\n",
    "pred_prob2 = model2.predict_proba(X_test)\n",
    "pred_prob3 = model3._predict_proba_lr(X_test)\n",
    "from sklearn.metrics import roc_curve\n",
    "\n",
    "# roc curve for models\n",
    "fpr11, tpr11, thresh11 = roc_curve(y_test, pred_prob1[:,1], pos_label=1)\n",
    "fpr21, tpr21, thresh21 = roc_curve(y_test, pred_prob2[:,1], pos_label=1)\n",
    "fpr31, tpr31, thresh31 = roc_curve(y_test, pred_prob3[:,1], pos_label=1)\n",
    "\n",
    "# roc curve for tpr = fpr \n",
    "random_probs = [0 for i in range(len(y_test))]\n",
    "p_fpr, p_tpr, _ = roc_curve(y_test, random_probs, pos_label=1)\n",
    "import matplotlib.pyplot as plt\n",
    "plt.style.use('seaborn')\n",
    "\n",
    "# plot roc curves\n",
    "plt.plot(fpr11, tpr11, linestyle='--',color='orange', label='Logistic Regression')\n",
    "plt.plot(fpr21, tpr21, linestyle='--',color='green', label='Random Forest')\n",
    "plt.plot(fpr31, tpr31, linestyle='--',color='red', label='LinearSVC')\n",
    "plt.plot(p_fpr, p_tpr, linestyle='--', color='blue')\n",
    "# title\n",
    "plt.title('ROC curve- SMOTE')\n",
    "# x label\n",
    "plt.xlabel('False Positive Rate')\n",
    "# y label\n",
    "plt.ylabel('True Positive rate')\n",
    "\n",
    "plt.legend(loc='best')\n",
    "plt.savefig('ROC',dpi=300)\n",
    "plt.show();\n"
   ]
  },
  {
   "cell_type": "code",
   "execution_count": null,
   "id": "02b0554d",
   "metadata": {},
   "outputs": [],
   "source": [
    "\n"
   ]
  },
  {
   "cell_type": "code",
   "execution_count": null,
   "id": "a1b511bc",
   "metadata": {},
   "outputs": [],
   "source": [
    "\n"
   ]
  },
  {
   "cell_type": "code",
   "execution_count": null,
   "id": "ee621177",
   "metadata": {},
   "outputs": [],
   "source": [
    "\n"
   ]
  },
  {
   "cell_type": "code",
   "execution_count": null,
   "id": "46f85d8e",
   "metadata": {},
   "outputs": [],
   "source": []
  }
 ],
 "metadata": {
  "kernelspec": {
   "display_name": "Python 3 (ipykernel)",
   "language": "python",
   "name": "python3"
  },
  "language_info": {
   "codemirror_mode": {
    "name": "ipython",
    "version": 3
   },
   "file_extension": ".py",
   "mimetype": "text/x-python",
   "name": "python",
   "nbconvert_exporter": "python",
   "pygments_lexer": "ipython3",
   "version": "3.10.0"
  }
 },
 "nbformat": 4,
 "nbformat_minor": 5
}
