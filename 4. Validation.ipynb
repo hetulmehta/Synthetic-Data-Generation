{
 "cells": [
  {
   "cell_type": "code",
   "execution_count": 3,
   "id": "a710b94f",
   "metadata": {},
   "outputs": [],
   "source": [
    "import pandas as pd\n",
    "import numpy as np\n",
    "from scipy import spatial\n",
    "import matplotlib.pyplot as plt\n",
    "from sklearn.manifold import TSNE\n",
    "import smote_variants as sv\n",
    "from tqdm import tqdm\n",
    "from urllib.parse import urlparse\n",
    "import requests\n",
    "from collections import Counter\n",
    "import pandas as pd\n",
    "import os"
   ]
  },
  {
   "cell_type": "code",
   "execution_count": 2,
   "id": "f1684a6e",
   "metadata": {},
   "outputs": [],
   "source": [
    "df1=pd.read_csv(\"dataset/datawithoglist.csv\")\n",
    "df2=pd.read_csv(\"dataset/datawithcleanog.csv\")\n",
    "df3=pd.read_csv(\"dataset/datawithsmote.csv\")\n",
    "df4=pd.read_csv(\"dataset/datawithcossmote.csv\")\n",
    "df1=df1[['body','description','title','url','cleaned_website_text','words matched','category']]\n",
    "df1.rename(columns = {'category':'cat_og'}, inplace = True)\n",
    "df1.rename(columns = {'words matched':'words_og'}, inplace = True)\n",
    "df2=df2[['body','description','title','url','cleaned_website_text','words matched','category']]\n",
    "df2.rename(columns = {'category':'cat_ogclean'}, inplace = True)\n",
    "df2.rename(columns = {'words matched':'words_ogclean'}, inplace = True)\n",
    "df3=df3[['body','description','title','url','cleaned_website_text','words matched','category']]\n",
    "df3.rename(columns = {'category':'cat_smote'}, inplace = True)\n",
    "df3.rename(columns = {'words matched':'words_smote'}, inplace = True)\n",
    "df4=df4[['body','description','title','url','cleaned_website_text','words matched','category']]\n",
    "df4.rename(columns = {'category':'cat_cossmote'}, inplace = True)\n",
    "df4.rename(columns = {'words matched':'words_cossmote'}, inplace = True)"
   ]
  },
  {
   "cell_type": "code",
   "execution_count": 3,
   "id": "f3a29fc2",
   "metadata": {
    "scrolled": false
   },
   "outputs": [
    {
     "data": {
      "text/plain": [
       "drug        11745\n",
       "non drug     8489\n",
       "Name: cat_og, dtype: int64"
      ]
     },
     "execution_count": 3,
     "metadata": {},
     "output_type": "execute_result"
    }
   ],
   "source": [
    "df1['cat_og'].value_counts()"
   ]
  },
  {
   "cell_type": "code",
   "execution_count": 4,
   "id": "37a88c76",
   "metadata": {},
   "outputs": [
    {
     "data": {
      "text/plain": [
       "drug        18466\n",
       "non drug     1768\n",
       "Name: cat_ogclean, dtype: int64"
      ]
     },
     "execution_count": 4,
     "metadata": {},
     "output_type": "execute_result"
    }
   ],
   "source": [
    "df2['cat_ogclean'].value_counts()"
   ]
  },
  {
   "cell_type": "code",
   "execution_count": 5,
   "id": "cd7522b1",
   "metadata": {},
   "outputs": [
    {
     "data": {
      "text/plain": [
       "drug        20091\n",
       "non drug      143\n",
       "Name: cat_smote, dtype: int64"
      ]
     },
     "execution_count": 5,
     "metadata": {},
     "output_type": "execute_result"
    }
   ],
   "source": [
    "df3['cat_smote'].value_counts()"
   ]
  },
  {
   "cell_type": "code",
   "execution_count": 6,
   "id": "dd07401b",
   "metadata": {},
   "outputs": [
    {
     "data": {
      "text/plain": [
       "drug        17565\n",
       "non drug     2669\n",
       "Name: cat_cossmote, dtype: int64"
      ]
     },
     "execution_count": 6,
     "metadata": {},
     "output_type": "execute_result"
    }
   ],
   "source": [
    "df4['cat_cossmote'].value_counts()"
   ]
  },
  {
   "cell_type": "code",
   "execution_count": 7,
   "id": "2b178ca2",
   "metadata": {},
   "outputs": [
    {
     "data": {
      "text/html": [
       "<div>\n",
       "<style scoped>\n",
       "    .dataframe tbody tr th:only-of-type {\n",
       "        vertical-align: middle;\n",
       "    }\n",
       "\n",
       "    .dataframe tbody tr th {\n",
       "        vertical-align: top;\n",
       "    }\n",
       "\n",
       "    .dataframe thead th {\n",
       "        text-align: right;\n",
       "    }\n",
       "</style>\n",
       "<table border=\"1\" class=\"dataframe\">\n",
       "  <thead>\n",
       "    <tr style=\"text-align: right;\">\n",
       "      <th></th>\n",
       "      <th>body</th>\n",
       "      <th>description</th>\n",
       "      <th>title</th>\n",
       "      <th>url</th>\n",
       "      <th>cleaned_website_text</th>\n",
       "      <th>words_og</th>\n",
       "      <th>cat_og</th>\n",
       "      <th>words_ogclean</th>\n",
       "      <th>cat_ogclean</th>\n",
       "      <th>words_smote</th>\n",
       "      <th>cat_smote</th>\n",
       "      <th>words_cossmote</th>\n",
       "      <th>cat_cossmote</th>\n",
       "    </tr>\n",
       "  </thead>\n",
       "  <tbody>\n",
       "    <tr>\n",
       "      <th>0</th>\n",
       "      <td>\\n \\n \\n \\n \\n \\n No cookies, no javascript, n...</td>\n",
       "      <td>Drugs Store - buy Ecstasy, Cocaine, LSD, Meth.</td>\n",
       "      <td>Cocaine Drugs</td>\n",
       "      <td>http://fc3ryhftqfgwyroq7pt63f7jif4jknfrmd3pbdw...</td>\n",
       "      <td>cookie javascript trace protect privacy home q...</td>\n",
       "      <td>['cannabis', 'cannabis', 'cocaine', 'ecstasy',...</td>\n",
       "      <td>drug</td>\n",
       "      <td>['cannabis', 'cannabis', 'cocaine', 'ecstasy',...</td>\n",
       "      <td>drug</td>\n",
       "      <td>['privacy', 'g', 'mix', 'g', 'mg', 'drugs']</td>\n",
       "      <td>drug</td>\n",
       "      <td>['cannabis', 'cannabis', 'cocaine', 'ecstasy',...</td>\n",
       "      <td>drug</td>\n",
       "    </tr>\n",
       "    <tr>\n",
       "      <th>1</th>\n",
       "      <td>\\n \\n \\n \\n \\n \\n No cookies, no javascript, n...</td>\n",
       "      <td>Drugs Store - buy Ecstasy, Cocaine, LSD, Meth.</td>\n",
       "      <td>Cannabis</td>\n",
       "      <td>http://r3q6nxpmfdxhzz3oumaseyfr5qujvg4cayzvj2y...</td>\n",
       "      <td>cookie javascript trace protect privacy home q...</td>\n",
       "      <td>['cannabis', 'cannabis', 'cocaine', 'ecstasy',...</td>\n",
       "      <td>drug</td>\n",
       "      <td>['cannabis', 'cannabis', 'cocaine', 'ecstasy',...</td>\n",
       "      <td>drug</td>\n",
       "      <td>['privacy', 'g', 'mix', 'g', 'mg', 'drugs']</td>\n",
       "      <td>drug</td>\n",
       "      <td>['cannabis', 'cannabis', 'cocaine', 'ecstasy',...</td>\n",
       "      <td>drug</td>\n",
       "    </tr>\n",
       "    <tr>\n",
       "      <th>2</th>\n",
       "      <td>\\n \\n \\n \\n \\n \\n \\n \\n \\n \\n \\n drugshop@dnmx...</td>\n",
       "      <td>Drugs Store - buy Ecstasy, Cocaine, LSD, Meth.</td>\n",
       "      <td>Buy Drugs - Ecstasy, LSD, Meth, Cocaine, Canna...</td>\n",
       "      <td>http://7nroowrqwdgbyajwrynxtypkdi46f22akwki73e...</td>\n",
       "      <td>home catalog question answer cart contact escr...</td>\n",
       "      <td>['cannabis', 'cannabis', 'cocaine', 'ecstasy',...</td>\n",
       "      <td>drug</td>\n",
       "      <td>['cannabis', 'cannabis', 'cocaine', 'ecstasy',...</td>\n",
       "      <td>drug</td>\n",
       "      <td>['g', 'add', 'mix', 'add', 'g', 'add', 'mg', '...</td>\n",
       "      <td>drug</td>\n",
       "      <td>['cannabis', 'cannabis', 'cocaine', 'ecstasy',...</td>\n",
       "      <td>drug</td>\n",
       "    </tr>\n",
       "    <tr>\n",
       "      <th>3</th>\n",
       "      <td>\\n \\n \\n \\n \\n \\n \\n \\n \\n \\n \\n  drugsshopper...</td>\n",
       "      <td>Drugs Shop - buy cannabis best marijuana hemp.</td>\n",
       "      <td>Cannabis - Seeds Cannabis - Drugs Shop hash</td>\n",
       "      <td>http://hpcphv5q3lhiebh6c765lslihne4tn6ui5dnd63...</td>\n",
       "      <td>home catalog question answer cart contact cate...</td>\n",
       "      <td>['cannabis', 'cannabis', 'kush', 'cannabis', '...</td>\n",
       "      <td>drug</td>\n",
       "      <td>['cannabis', 'cannabis', 'kush', 'cannabis', '...</td>\n",
       "      <td>drug</td>\n",
       "      <td>['g', 'add', 'g', 'add', 'g', 'add', 'g', 'add...</td>\n",
       "      <td>drug</td>\n",
       "      <td>['cannabis', 'cannabis', 'kush', 'cannabis', '...</td>\n",
       "      <td>drug</td>\n",
       "    </tr>\n",
       "    <tr>\n",
       "      <th>4</th>\n",
       "      <td>\\n \\n \\n \\n \\n \\n No cookies, no javascript, n...</td>\n",
       "      <td>Drugs Store - buy Ecstasy, Cocaine, LSD, Meth.</td>\n",
       "      <td>DRUGS</td>\n",
       "      <td>http://lnn6isw6tkbmplxe7eisjpf7nw6mmbwc7wjjuyh...</td>\n",
       "      <td>cookie javascript trace protect privacy home q...</td>\n",
       "      <td>['cannabis', 'cannabis', 'cocaine', 'ecstasy',...</td>\n",
       "      <td>drug</td>\n",
       "      <td>['cannabis', 'cannabis', 'cocaine', 'ecstasy',...</td>\n",
       "      <td>drug</td>\n",
       "      <td>['privacy', 'g', 'mix', 'g', 'mg', 'drugs']</td>\n",
       "      <td>drug</td>\n",
       "      <td>['cannabis', 'cannabis', 'cocaine', 'ecstasy',...</td>\n",
       "      <td>drug</td>\n",
       "    </tr>\n",
       "    <tr>\n",
       "      <th>...</th>\n",
       "      <td>...</td>\n",
       "      <td>...</td>\n",
       "      <td>...</td>\n",
       "      <td>...</td>\n",
       "      <td>...</td>\n",
       "      <td>...</td>\n",
       "      <td>...</td>\n",
       "      <td>...</td>\n",
       "      <td>...</td>\n",
       "      <td>...</td>\n",
       "      <td>...</td>\n",
       "      <td>...</td>\n",
       "      <td>...</td>\n",
       "    </tr>\n",
       "    <tr>\n",
       "      <th>20229</th>\n",
       "      <td>\\n \\n \\n \\n \\n \\n \\n \\n \\n \\n \\n \\n \\n \\n \\n \\...</td>\n",
       "      <td>NaN</td>\n",
       "      <td>On the Internet, Forever-Mutating Debates\\n</td>\n",
       "      <td>https://archive.nytimesn7cgmftshazwhfgzm37qxb4...</td>\n",
       "      <td>january internet forever mutating debates rela...</td>\n",
       "      <td>['weed']</td>\n",
       "      <td>drug</td>\n",
       "      <td>['weed', 'special', 'system']</td>\n",
       "      <td>drug</td>\n",
       "      <td>['economy', 'industry', 'dog', 'remember', 'in...</td>\n",
       "      <td>drug</td>\n",
       "      <td>['weed', 'crime', 'take']</td>\n",
       "      <td>drug</td>\n",
       "    </tr>\n",
       "    <tr>\n",
       "      <th>20230</th>\n",
       "      <td>\\n \\n \\n \\n \\n \\n \\n \\n \\n \\n \\n \\n \\n \\n \\n \\...</td>\n",
       "      <td>NaN</td>\n",
       "      <td>1997 Technology Highlights</td>\n",
       "      <td>https://archive.nytimesn7cgmftshazwhfgzm37qxb4...</td>\n",
       "      <td>january technology highlights related articles...</td>\n",
       "      <td>['soap', 'peace']</td>\n",
       "      <td>drug</td>\n",
       "      <td>['soap', 'love', 'peace', 'system', 'blue', 'b...</td>\n",
       "      <td>drug</td>\n",
       "      <td>['economy', 'industry', 'win', 'like', 'decade...</td>\n",
       "      <td>drug</td>\n",
       "      <td>['soap', 'take', 'take', 'peace', 'product']</td>\n",
       "      <td>drug</td>\n",
       "    </tr>\n",
       "    <tr>\n",
       "      <th>20231</th>\n",
       "      <td>\\n \\n \\n \\n \\n \\n \\n \\n \\n \\n \\n \\n \\n \\n \\n \\...</td>\n",
       "      <td>NaN</td>\n",
       "      <td>Stock Volatility</td>\n",
       "      <td>https://archive.nytimesn7cgmftshazwhfgzm37qxb4...</td>\n",
       "      <td>credit new york times article home site index ...</td>\n",
       "      <td>[]</td>\n",
       "      <td>non drug</td>\n",
       "      <td>[]</td>\n",
       "      <td>non drug</td>\n",
       "      <td>['weather']</td>\n",
       "      <td>drug</td>\n",
       "      <td>[]</td>\n",
       "      <td>non drug</td>\n",
       "    </tr>\n",
       "    <tr>\n",
       "      <th>20232</th>\n",
       "      <td>\\n \\n \\n \\n \\n \\n \\n \\n \\n \\n \\n \\n \\n \\n \\n \\...</td>\n",
       "      <td>NaN</td>\n",
       "      <td>Wall Street</td>\n",
       "      <td>https://archive.nytimesn7cgmftshazwhfgzm37qxb4...</td>\n",
       "      <td>volatile day volatile year wall street clean n...</td>\n",
       "      <td>[]</td>\n",
       "      <td>non drug</td>\n",
       "      <td>[]</td>\n",
       "      <td>non drug</td>\n",
       "      <td>['day', 'weather']</td>\n",
       "      <td>drug</td>\n",
       "      <td>[]</td>\n",
       "      <td>non drug</td>\n",
       "    </tr>\n",
       "    <tr>\n",
       "      <th>20233</th>\n",
       "      <td>\\n \\n \\n \\n \\n \\n \\n \\n \\n \\n \\n \\n \\n \\n \\n \\...</td>\n",
       "      <td>NaN</td>\n",
       "      <td>Oil Output</td>\n",
       "      <td>https://archive.nytimesn7cgmftshazwhfgzm37qxb4...</td>\n",
       "      <td>credit new york times article home site index ...</td>\n",
       "      <td>[]</td>\n",
       "      <td>non drug</td>\n",
       "      <td>[]</td>\n",
       "      <td>non drug</td>\n",
       "      <td>['weather']</td>\n",
       "      <td>drug</td>\n",
       "      <td>[]</td>\n",
       "      <td>non drug</td>\n",
       "    </tr>\n",
       "  </tbody>\n",
       "</table>\n",
       "<p>20052 rows × 13 columns</p>\n",
       "</div>"
      ],
      "text/plain": [
       "                                                    body  \\\n",
       "0      \\n \\n \\n \\n \\n \\n No cookies, no javascript, n...   \n",
       "1      \\n \\n \\n \\n \\n \\n No cookies, no javascript, n...   \n",
       "2      \\n \\n \\n \\n \\n \\n \\n \\n \\n \\n \\n drugshop@dnmx...   \n",
       "3      \\n \\n \\n \\n \\n \\n \\n \\n \\n \\n \\n  drugsshopper...   \n",
       "4      \\n \\n \\n \\n \\n \\n No cookies, no javascript, n...   \n",
       "...                                                  ...   \n",
       "20229  \\n \\n \\n \\n \\n \\n \\n \\n \\n \\n \\n \\n \\n \\n \\n \\...   \n",
       "20230  \\n \\n \\n \\n \\n \\n \\n \\n \\n \\n \\n \\n \\n \\n \\n \\...   \n",
       "20231  \\n \\n \\n \\n \\n \\n \\n \\n \\n \\n \\n \\n \\n \\n \\n \\...   \n",
       "20232  \\n \\n \\n \\n \\n \\n \\n \\n \\n \\n \\n \\n \\n \\n \\n \\...   \n",
       "20233  \\n \\n \\n \\n \\n \\n \\n \\n \\n \\n \\n \\n \\n \\n \\n \\...   \n",
       "\n",
       "                                          description  \\\n",
       "0      Drugs Store - buy Ecstasy, Cocaine, LSD, Meth.   \n",
       "1      Drugs Store - buy Ecstasy, Cocaine, LSD, Meth.   \n",
       "2      Drugs Store - buy Ecstasy, Cocaine, LSD, Meth.   \n",
       "3      Drugs Shop - buy cannabis best marijuana hemp.   \n",
       "4      Drugs Store - buy Ecstasy, Cocaine, LSD, Meth.   \n",
       "...                                               ...   \n",
       "20229                                             NaN   \n",
       "20230                                             NaN   \n",
       "20231                                             NaN   \n",
       "20232                                             NaN   \n",
       "20233                                             NaN   \n",
       "\n",
       "                                                   title  \\\n",
       "0                                          Cocaine Drugs   \n",
       "1                                               Cannabis   \n",
       "2      Buy Drugs - Ecstasy, LSD, Meth, Cocaine, Canna...   \n",
       "3            Cannabis - Seeds Cannabis - Drugs Shop hash   \n",
       "4                                                  DRUGS   \n",
       "...                                                  ...   \n",
       "20229    On the Internet, Forever-Mutating Debates\\n       \n",
       "20230                         1997 Technology Highlights   \n",
       "20231                                   Stock Volatility   \n",
       "20232                                        Wall Street   \n",
       "20233                                         Oil Output   \n",
       "\n",
       "                                                     url  \\\n",
       "0      http://fc3ryhftqfgwyroq7pt63f7jif4jknfrmd3pbdw...   \n",
       "1      http://r3q6nxpmfdxhzz3oumaseyfr5qujvg4cayzvj2y...   \n",
       "2      http://7nroowrqwdgbyajwrynxtypkdi46f22akwki73e...   \n",
       "3      http://hpcphv5q3lhiebh6c765lslihne4tn6ui5dnd63...   \n",
       "4      http://lnn6isw6tkbmplxe7eisjpf7nw6mmbwc7wjjuyh...   \n",
       "...                                                  ...   \n",
       "20229  https://archive.nytimesn7cgmftshazwhfgzm37qxb4...   \n",
       "20230  https://archive.nytimesn7cgmftshazwhfgzm37qxb4...   \n",
       "20231  https://archive.nytimesn7cgmftshazwhfgzm37qxb4...   \n",
       "20232  https://archive.nytimesn7cgmftshazwhfgzm37qxb4...   \n",
       "20233  https://archive.nytimesn7cgmftshazwhfgzm37qxb4...   \n",
       "\n",
       "                                    cleaned_website_text  \\\n",
       "0      cookie javascript trace protect privacy home q...   \n",
       "1      cookie javascript trace protect privacy home q...   \n",
       "2      home catalog question answer cart contact escr...   \n",
       "3      home catalog question answer cart contact cate...   \n",
       "4      cookie javascript trace protect privacy home q...   \n",
       "...                                                  ...   \n",
       "20229  january internet forever mutating debates rela...   \n",
       "20230  january technology highlights related articles...   \n",
       "20231  credit new york times article home site index ...   \n",
       "20232  volatile day volatile year wall street clean n...   \n",
       "20233  credit new york times article home site index ...   \n",
       "\n",
       "                                                words_og    cat_og  \\\n",
       "0      ['cannabis', 'cannabis', 'cocaine', 'ecstasy',...      drug   \n",
       "1      ['cannabis', 'cannabis', 'cocaine', 'ecstasy',...      drug   \n",
       "2      ['cannabis', 'cannabis', 'cocaine', 'ecstasy',...      drug   \n",
       "3      ['cannabis', 'cannabis', 'kush', 'cannabis', '...      drug   \n",
       "4      ['cannabis', 'cannabis', 'cocaine', 'ecstasy',...      drug   \n",
       "...                                                  ...       ...   \n",
       "20229                                           ['weed']      drug   \n",
       "20230                                  ['soap', 'peace']      drug   \n",
       "20231                                                 []  non drug   \n",
       "20232                                                 []  non drug   \n",
       "20233                                                 []  non drug   \n",
       "\n",
       "                                           words_ogclean cat_ogclean  \\\n",
       "0      ['cannabis', 'cannabis', 'cocaine', 'ecstasy',...        drug   \n",
       "1      ['cannabis', 'cannabis', 'cocaine', 'ecstasy',...        drug   \n",
       "2      ['cannabis', 'cannabis', 'cocaine', 'ecstasy',...        drug   \n",
       "3      ['cannabis', 'cannabis', 'kush', 'cannabis', '...        drug   \n",
       "4      ['cannabis', 'cannabis', 'cocaine', 'ecstasy',...        drug   \n",
       "...                                                  ...         ...   \n",
       "20229                      ['weed', 'special', 'system']        drug   \n",
       "20230  ['soap', 'love', 'peace', 'system', 'blue', 'b...        drug   \n",
       "20231                                                 []    non drug   \n",
       "20232                                                 []    non drug   \n",
       "20233                                                 []    non drug   \n",
       "\n",
       "                                             words_smote cat_smote  \\\n",
       "0            ['privacy', 'g', 'mix', 'g', 'mg', 'drugs']      drug   \n",
       "1            ['privacy', 'g', 'mix', 'g', 'mg', 'drugs']      drug   \n",
       "2      ['g', 'add', 'mix', 'add', 'g', 'add', 'mg', '...      drug   \n",
       "3      ['g', 'add', 'g', 'add', 'g', 'add', 'g', 'add...      drug   \n",
       "4            ['privacy', 'g', 'mix', 'g', 'mg', 'drugs']      drug   \n",
       "...                                                  ...       ...   \n",
       "20229  ['economy', 'industry', 'dog', 'remember', 'in...      drug   \n",
       "20230  ['economy', 'industry', 'win', 'like', 'decade...      drug   \n",
       "20231                                        ['weather']      drug   \n",
       "20232                                 ['day', 'weather']      drug   \n",
       "20233                                        ['weather']      drug   \n",
       "\n",
       "                                          words_cossmote cat_cossmote  \n",
       "0      ['cannabis', 'cannabis', 'cocaine', 'ecstasy',...         drug  \n",
       "1      ['cannabis', 'cannabis', 'cocaine', 'ecstasy',...         drug  \n",
       "2      ['cannabis', 'cannabis', 'cocaine', 'ecstasy',...         drug  \n",
       "3      ['cannabis', 'cannabis', 'kush', 'cannabis', '...         drug  \n",
       "4      ['cannabis', 'cannabis', 'cocaine', 'ecstasy',...         drug  \n",
       "...                                                  ...          ...  \n",
       "20229                          ['weed', 'crime', 'take']         drug  \n",
       "20230       ['soap', 'take', 'take', 'peace', 'product']         drug  \n",
       "20231                                                 []     non drug  \n",
       "20232                                                 []     non drug  \n",
       "20233                                                 []     non drug  \n",
       "\n",
       "[20052 rows x 13 columns]"
      ]
     },
     "execution_count": 7,
     "metadata": {},
     "output_type": "execute_result"
    }
   ],
   "source": [
    "cat_ogclean=list(df2['cat_ogclean'])\n",
    "cat_smote=list(df3['cat_smote'])\n",
    "cat_cossmote=list(df4['cat_cossmote'])\n",
    "words_ogclean=list(df2['words_ogclean'])\n",
    "words_smote=list(df3['words_smote'])\n",
    "words_cossmote=list(df4['words_cossmote'])\n",
    "df1['words_ogclean']=words_ogclean\n",
    "df1['cat_ogclean']=cat_ogclean\n",
    "df1['words_smote']=words_smote\n",
    "df1['cat_smote']=cat_smote\n",
    "df1['words_cossmote']=words_cossmote\n",
    "df1['cat_cossmote']=cat_cossmote\n",
    "df12=df1.drop_duplicates(keep=\"first\",subset=['url'])\n",
    "df12"
   ]
  },
  {
   "cell_type": "code",
   "execution_count": 8,
   "id": "f880447a",
   "metadata": {},
   "outputs": [
    {
     "data": {
      "text/plain": [
       "1767"
      ]
     },
     "execution_count": 8,
     "metadata": {},
     "output_type": "execute_result"
    }
   ],
   "source": [
    "test1=df1.query('cat_og==\"non drug\" & cat_ogclean==\"non drug\"')\n",
    "len(test1)"
   ]
  },
  {
   "cell_type": "code",
   "execution_count": 9,
   "id": "6aa1be1d",
   "metadata": {},
   "outputs": [
    {
     "data": {
      "text/plain": [
       "1"
      ]
     },
     "execution_count": 9,
     "metadata": {},
     "output_type": "execute_result"
    }
   ],
   "source": [
    "test2=df1.query('cat_og==\"drug\" & cat_ogclean==\"non drug\"')\n",
    "len(test2)"
   ]
  },
  {
   "cell_type": "code",
   "execution_count": 10,
   "id": "c02d1c61",
   "metadata": {},
   "outputs": [
    {
     "data": {
      "text/plain": [
       "6722"
      ]
     },
     "execution_count": 10,
     "metadata": {},
     "output_type": "execute_result"
    }
   ],
   "source": [
    "test3=df1.query('cat_og==\"non drug\" & cat_ogclean==\"drug\"')\n",
    "len(test3)"
   ]
  },
  {
   "cell_type": "code",
   "execution_count": 11,
   "id": "679af0b0",
   "metadata": {},
   "outputs": [],
   "source": [
    "#new testcases"
   ]
  },
  {
   "cell_type": "code",
   "execution_count": 12,
   "id": "c794d90e",
   "metadata": {},
   "outputs": [
    {
     "data": {
      "text/plain": [
       "2669"
      ]
     },
     "execution_count": 12,
     "metadata": {},
     "output_type": "execute_result"
    }
   ],
   "source": [
    "t1=df1.query('cat_og==\"non drug\" & cat_cossmote==\"non drug\"')\n",
    "len(t1)"
   ]
  },
  {
   "cell_type": "code",
   "execution_count": 13,
   "id": "d71bedc5",
   "metadata": {},
   "outputs": [
    {
     "data": {
      "text/plain": [
       "0"
      ]
     },
     "execution_count": 13,
     "metadata": {},
     "output_type": "execute_result"
    }
   ],
   "source": [
    "t2=df1.query('cat_og==\"drug\" & cat_cossmote==\"non drug\"')\n",
    "len(t2)"
   ]
  },
  {
   "cell_type": "code",
   "execution_count": 19,
   "id": "9f6e0e4d",
   "metadata": {},
   "outputs": [
    {
     "data": {
      "text/plain": [
       "5820"
      ]
     },
     "execution_count": 19,
     "metadata": {},
     "output_type": "execute_result"
    }
   ],
   "source": [
    "t3=df1.query('cat_og==\"non drug\" & cat_cossmote==\"drug\"')\n",
    "len(t3)"
   ]
  },
  {
   "cell_type": "code",
   "execution_count": 17,
   "id": "367dd1bd",
   "metadata": {},
   "outputs": [
    {
     "data": {
      "text/html": [
       "<div>\n",
       "<style scoped>\n",
       "    .dataframe tbody tr th:only-of-type {\n",
       "        vertical-align: middle;\n",
       "    }\n",
       "\n",
       "    .dataframe tbody tr th {\n",
       "        vertical-align: top;\n",
       "    }\n",
       "\n",
       "    .dataframe thead th {\n",
       "        text-align: right;\n",
       "    }\n",
       "</style>\n",
       "<table border=\"1\" class=\"dataframe\">\n",
       "  <thead>\n",
       "    <tr style=\"text-align: right;\">\n",
       "      <th></th>\n",
       "      <th>body</th>\n",
       "      <th>description</th>\n",
       "      <th>title</th>\n",
       "      <th>url</th>\n",
       "      <th>cleaned_website_text</th>\n",
       "      <th>words_og</th>\n",
       "      <th>cat_og</th>\n",
       "      <th>words_ogclean</th>\n",
       "      <th>cat_ogclean</th>\n",
       "      <th>words_smote</th>\n",
       "      <th>cat_smote</th>\n",
       "      <th>words_cossmote</th>\n",
       "      <th>cat_cossmote</th>\n",
       "    </tr>\n",
       "  </thead>\n",
       "  <tbody>\n",
       "    <tr>\n",
       "      <th>9</th>\n",
       "      <td>OnionLinks Short .onion v2 websites will stop ...</td>\n",
       "      <td>NaN</td>\n",
       "      <td>OnionLinks</td>\n",
       "      <td>http://jaz45aabn5vkemy4jkg4mi4syheisqn2wn2n4fs...</td>\n",
       "      <td>onionlinks short v2 website stop work october ...</td>\n",
       "      <td>[]</td>\n",
       "      <td>non drug</td>\n",
       "      <td>[]</td>\n",
       "      <td>non drug</td>\n",
       "      <td>['drug', 'privacy', 'dark', 'dark', 'drugs', '...</td>\n",
       "      <td>drug</td>\n",
       "      <td>['drug', 'counterfeit', 'drugs', 'drug']</td>\n",
       "      <td>drug</td>\n",
       "    </tr>\n",
       "    <tr>\n",
       "      <th>22</th>\n",
       "      <td>OnionLinks Short .onion v2 websites will stop ...</td>\n",
       "      <td>NaN</td>\n",
       "      <td>OnionLinks</td>\n",
       "      <td>http://c5xoy22aadb2rqgw3jh2m2irmu563evukqqddu5...</td>\n",
       "      <td>onionlinks short v2 website stop work october ...</td>\n",
       "      <td>[]</td>\n",
       "      <td>non drug</td>\n",
       "      <td>[]</td>\n",
       "      <td>non drug</td>\n",
       "      <td>['drug', 'privacy', 'dark', 'dark', 'drugs', '...</td>\n",
       "      <td>drug</td>\n",
       "      <td>['drug', 'counterfeit', 'drugs', 'drug']</td>\n",
       "      <td>drug</td>\n",
       "    </tr>\n",
       "    <tr>\n",
       "      <th>37</th>\n",
       "      <td>OnionLinks Short .onion v2 websites will stop ...</td>\n",
       "      <td>NaN</td>\n",
       "      <td>OnionLinks</td>\n",
       "      <td>http://ez37hmhem2gh3ixctfeaqn7kylal2vyjqsedkzh...</td>\n",
       "      <td>onionlinks short v2 website stop work october ...</td>\n",
       "      <td>[]</td>\n",
       "      <td>non drug</td>\n",
       "      <td>[]</td>\n",
       "      <td>non drug</td>\n",
       "      <td>['drug', 'privacy', 'dark', 'dark', 'drugs', '...</td>\n",
       "      <td>drug</td>\n",
       "      <td>['drug', 'counterfeit', 'drugs', 'drug']</td>\n",
       "      <td>drug</td>\n",
       "    </tr>\n",
       "    <tr>\n",
       "      <th>46</th>\n",
       "      <td>OnionLinks Short .onion v2 websites will stop ...</td>\n",
       "      <td>NaN</td>\n",
       "      <td>OnionLinks</td>\n",
       "      <td>http://gkcns4d3453llqjrksxdijfmmdjpqsykt6misgo...</td>\n",
       "      <td>onionlinks short v2 website stop work october ...</td>\n",
       "      <td>[]</td>\n",
       "      <td>non drug</td>\n",
       "      <td>[]</td>\n",
       "      <td>non drug</td>\n",
       "      <td>['drug', 'privacy', 'dark', 'dark', 'drugs', '...</td>\n",
       "      <td>drug</td>\n",
       "      <td>['drug', 'counterfeit', 'drugs', 'drug']</td>\n",
       "      <td>drug</td>\n",
       "    </tr>\n",
       "    <tr>\n",
       "      <th>60</th>\n",
       "      <td>OnionLinks Short .onion v2 websites will stop ...</td>\n",
       "      <td>NaN</td>\n",
       "      <td>OnionLinks</td>\n",
       "      <td>http://xjfbpuj56rdazx4iolylxplbvyft2onuerjeiml...</td>\n",
       "      <td>onionlinks short v2 website stop work october ...</td>\n",
       "      <td>[]</td>\n",
       "      <td>non drug</td>\n",
       "      <td>[]</td>\n",
       "      <td>non drug</td>\n",
       "      <td>['drug', 'privacy', 'dark', 'dark', 'drugs', '...</td>\n",
       "      <td>drug</td>\n",
       "      <td>['drug', 'counterfeit', 'drugs', 'drug']</td>\n",
       "      <td>drug</td>\n",
       "    </tr>\n",
       "  </tbody>\n",
       "</table>\n",
       "</div>"
      ],
      "text/plain": [
       "                                                 body description       title  \\\n",
       "9   OnionLinks Short .onion v2 websites will stop ...         NaN  OnionLinks   \n",
       "22  OnionLinks Short .onion v2 websites will stop ...         NaN  OnionLinks   \n",
       "37  OnionLinks Short .onion v2 websites will stop ...         NaN  OnionLinks   \n",
       "46  OnionLinks Short .onion v2 websites will stop ...         NaN  OnionLinks   \n",
       "60  OnionLinks Short .onion v2 websites will stop ...         NaN  OnionLinks   \n",
       "\n",
       "                                                  url  \\\n",
       "9   http://jaz45aabn5vkemy4jkg4mi4syheisqn2wn2n4fs...   \n",
       "22  http://c5xoy22aadb2rqgw3jh2m2irmu563evukqqddu5...   \n",
       "37  http://ez37hmhem2gh3ixctfeaqn7kylal2vyjqsedkzh...   \n",
       "46  http://gkcns4d3453llqjrksxdijfmmdjpqsykt6misgo...   \n",
       "60  http://xjfbpuj56rdazx4iolylxplbvyft2onuerjeiml...   \n",
       "\n",
       "                                 cleaned_website_text words_og    cat_og  \\\n",
       "9   onionlinks short v2 website stop work october ...       []  non drug   \n",
       "22  onionlinks short v2 website stop work october ...       []  non drug   \n",
       "37  onionlinks short v2 website stop work october ...       []  non drug   \n",
       "46  onionlinks short v2 website stop work october ...       []  non drug   \n",
       "60  onionlinks short v2 website stop work october ...       []  non drug   \n",
       "\n",
       "   words_ogclean cat_ogclean  \\\n",
       "9             []    non drug   \n",
       "22            []    non drug   \n",
       "37            []    non drug   \n",
       "46            []    non drug   \n",
       "60            []    non drug   \n",
       "\n",
       "                                          words_smote cat_smote  \\\n",
       "9   ['drug', 'privacy', 'dark', 'dark', 'drugs', '...      drug   \n",
       "22  ['drug', 'privacy', 'dark', 'dark', 'drugs', '...      drug   \n",
       "37  ['drug', 'privacy', 'dark', 'dark', 'drugs', '...      drug   \n",
       "46  ['drug', 'privacy', 'dark', 'dark', 'drugs', '...      drug   \n",
       "60  ['drug', 'privacy', 'dark', 'dark', 'drugs', '...      drug   \n",
       "\n",
       "                              words_cossmote cat_cossmote  \n",
       "9   ['drug', 'counterfeit', 'drugs', 'drug']         drug  \n",
       "22  ['drug', 'counterfeit', 'drugs', 'drug']         drug  \n",
       "37  ['drug', 'counterfeit', 'drugs', 'drug']         drug  \n",
       "46  ['drug', 'counterfeit', 'drugs', 'drug']         drug  \n",
       "60  ['drug', 'counterfeit', 'drugs', 'drug']         drug  "
      ]
     },
     "execution_count": 17,
     "metadata": {},
     "output_type": "execute_result"
    }
   ],
   "source": [
    "t3.head(5)"
   ]
  },
  {
   "cell_type": "code",
   "execution_count": 47,
   "id": "ee0f2214",
   "metadata": {},
   "outputs": [],
   "source": [
    "import ast\n",
    "l1=[]\n",
    "l2=[]\n",
    "urls=['http://c5xoy22aadb2rqgw3jh2m2irmu563evukqqddu5zjandunaimzaye5id.onion/',\n",
    "      'http://gkcns4d3453llqjrksxdijfmmdjpqsykt6misgojxlhsnpivtl3uwhqd.onion/',\n",
    "     'http://porf65zpwy2yo4sjvynrl4eylj27ibrmo5s2bozrhffie63c7cxqawid.onion/',\n",
    "     'http://4p6i33oqj6wgvzgzczyqlueav3tz456rdu632xzyxbnhq4gpsriirtqd.onion/',\n",
    "     'http://gn74rz534aeyfxqf33hqg6iuspizulmvpd7zoyz7ybjq4jo3whkykryd.onion/']\n",
    "x=df1.loc[df1['url']==urls[0]] \n",
    "l1.append(set(ast.literal_eval(x['words_og'].iloc[1])))\n",
    "l2.append(set(ast.literal_eval(x['words_cossmote'].iloc[1])))\n",
    "x=df1.loc[df1['url']==urls[1]] \n",
    "l1.append(set(ast.literal_eval(x['words_og'].iloc[2])))\n",
    "l2.append(set(ast.literal_eval(x['words_cossmote'].iloc[2])))\n",
    "x=df1.loc[df1['url']==urls[2]] \n",
    "l1.append(set(ast.literal_eval(x['words_og'].iloc[1])))\n",
    "l2.append(set(ast.literal_eval(x['words_cossmote'].iloc[1])))\n",
    "x=df1.loc[df1['url']==urls[3]] \n",
    "l1.append(set(ast.literal_eval(x['words_og'].iloc[2])))\n",
    "l2.append(set(ast.literal_eval(x['words_cossmote'].iloc[2])))\n",
    "x=df1.loc[df1['url']==urls[4]] \n",
    "l1.append(set(ast.literal_eval(x['words_og'].iloc[0])))\n",
    "l2.append(set(ast.literal_eval(x['words_cossmote'].iloc[0])))"
   ]
  },
  {
   "cell_type": "code",
   "execution_count": 48,
   "id": "34641e18",
   "metadata": {},
   "outputs": [
    {
     "data": {
      "text/plain": [
       "[{'acid', 'cocaine', 'crack', 'heroin', 'lsd', 'mdma'},\n",
       " {'cannabis', 'cocaine', 'crystal', 'crystal meth', 'ecstasy', 'lsd', 'meth'},\n",
       " {'cannabis', 'cocaine', 'crystal', 'crystal meth', 'ecstasy', 'lsd', 'meth'},\n",
       " {'cannabis', 'cocaine', 'crystal', 'crystal meth', 'ecstasy', 'lsd', 'meth'},\n",
       " {'cannabis', 'cheese', 'chronic', 'hash', 'kush'}]"
      ]
     },
     "execution_count": 48,
     "metadata": {},
     "output_type": "execute_result"
    }
   ],
   "source": [
    "l1"
   ]
  },
  {
   "cell_type": "code",
   "execution_count": 49,
   "id": "dd8e24fc",
   "metadata": {},
   "outputs": [
    {
     "data": {
      "text/plain": [
       "[{'acid', 'cocaine', 'crack', 'drug', 'heroin', 'lsd', 'mdma', 'product'},\n",
       " {'cannabis',\n",
       "  'cocaine',\n",
       "  'crystal',\n",
       "  'crystal meth',\n",
       "  'drugs',\n",
       "  'ecstasy',\n",
       "  'lsd',\n",
       "  'meth',\n",
       "  'pills'},\n",
       " {'cannabis',\n",
       "  'cocaine',\n",
       "  'crystal',\n",
       "  'crystal meth',\n",
       "  'drugs',\n",
       "  'ecstasy',\n",
       "  'lsd',\n",
       "  'meth',\n",
       "  'pills'},\n",
       " {'cannabis',\n",
       "  'cocaine',\n",
       "  'crystal',\n",
       "  'crystal meth',\n",
       "  'drugs',\n",
       "  'ecstasy',\n",
       "  'lsd',\n",
       "  'meth',\n",
       "  'pills'},\n",
       " {'cannabis', 'cheese', 'chronic', 'hash', 'kush', 'product'}]"
      ]
     },
     "execution_count": 49,
     "metadata": {},
     "output_type": "execute_result"
    }
   ],
   "source": [
    "l2"
   ]
  },
  {
   "cell_type": "code",
   "execution_count": null,
   "id": "6b4d75e1",
   "metadata": {},
   "outputs": [],
   "source": []
  }
 ],
 "metadata": {
  "kernelspec": {
   "display_name": "Python 3 (ipykernel)",
   "language": "python",
   "name": "python3"
  },
  "language_info": {
   "codemirror_mode": {
    "name": "ipython",
    "version": 3
   },
   "file_extension": ".py",
   "mimetype": "text/x-python",
   "name": "python",
   "nbconvert_exporter": "python",
   "pygments_lexer": "ipython3",
   "version": "3.10.0"
  }
 },
 "nbformat": 4,
 "nbformat_minor": 5
}
