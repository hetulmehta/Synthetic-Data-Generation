{
 "cells": [
  {
   "cell_type": "code",
   "execution_count": 1,
   "id": "31e03cca",
   "metadata": {},
   "outputs": [],
   "source": [
    "import pandas as pd\n",
    "import numpy as np\n",
    "from scipy import spatial\n",
    "import matplotlib.pyplot as plt\n",
    "from sklearn.manifold import TSNE\n",
    "import smote_variants as sv\n",
    "from tqdm import tqdm\n",
    "from urllib.parse import urlparse\n",
    "import requests\n",
    "from collections import Counter\n",
    "import pandas as pd\n",
    "import os\n",
    "from flashtext.keyword import KeywordProcessor"
   ]
  },
  {
   "cell_type": "code",
   "execution_count": 20,
   "id": "22286a83",
   "metadata": {},
   "outputs": [
    {
     "name": "stdout",
     "output_type": "stream",
     "text": [
      "Number of intial words:  323\n",
      "Number of intial words cleaned:  261\n",
      "Number of synthetic words generated using smote:  1862\n",
      "Number of synthetic words generated using improvised smote  616\n"
     ]
    }
   ],
   "source": [
    "df1=pd.read_csv(\"dataset/street list.csv\")\n",
    "df2=pd.read_csv(\"dataset/1smoteog.csv\")\n",
    "# =pd.read_csv(\"dataset/syncosinestreet.csv\")\n",
    "df3=pd.read_csv(\"dataset/3smotecos.csv\")\n",
    "df4=pd.read_csv(\"dataset/StreetListCleaned.csv\")\n",
    "oglist=list(df1['street'])\n",
    "smote=list(df2['0'])\n",
    "cossmote=list(df3['0'])\n",
    "cleanog=list(df4['Words'])\n",
    "print(\"Number of intial words: \",len(oglist))\n",
    "print(\"Number of intial words cleaned: \",len(cleanog))\n",
    "print(\"Number of synthetic words generated using smote: \",len(smote))\n",
    "print(\"Number of synthetic words generated using improvised smote \",len(cossmote))"
   ]
  },
  {
   "cell_type": "code",
   "execution_count": 13,
   "id": "7d6e039a",
   "metadata": {
    "scrolled": true
   },
   "outputs": [
    {
     "data": {
      "text/html": [
       "<div>\n",
       "<style scoped>\n",
       "    .dataframe tbody tr th:only-of-type {\n",
       "        vertical-align: middle;\n",
       "    }\n",
       "\n",
       "    .dataframe tbody tr th {\n",
       "        vertical-align: top;\n",
       "    }\n",
       "\n",
       "    .dataframe thead th {\n",
       "        text-align: right;\n",
       "    }\n",
       "</style>\n",
       "<table border=\"1\" class=\"dataframe\">\n",
       "  <thead>\n",
       "    <tr style=\"text-align: right;\">\n",
       "      <th></th>\n",
       "      <th>Unnamed: 0</th>\n",
       "      <th>body</th>\n",
       "      <th>description</th>\n",
       "      <th>title</th>\n",
       "      <th>url</th>\n",
       "      <th>cleaned_website_text</th>\n",
       "    </tr>\n",
       "  </thead>\n",
       "  <tbody>\n",
       "    <tr>\n",
       "      <th>0</th>\n",
       "      <td>0</td>\n",
       "      <td>\\n \\n \\n \\n \\n \\n No cookies, no javascript, n...</td>\n",
       "      <td>Drugs Store - buy Ecstasy, Cocaine, LSD, Meth.</td>\n",
       "      <td>Cocaine Drugs</td>\n",
       "      <td>http://fc3ryhftqfgwyroq7pt63f7jif4jknfrmd3pbdw...</td>\n",
       "      <td>cookie javascript trace protect privacy home q...</td>\n",
       "    </tr>\n",
       "    <tr>\n",
       "      <th>1</th>\n",
       "      <td>1</td>\n",
       "      <td>\\n \\n \\n \\n \\n \\n No cookies, no javascript, n...</td>\n",
       "      <td>Drugs Store - buy Ecstasy, Cocaine, LSD, Meth.</td>\n",
       "      <td>Cannabis</td>\n",
       "      <td>http://r3q6nxpmfdxhzz3oumaseyfr5qujvg4cayzvj2y...</td>\n",
       "      <td>cookie javascript trace protect privacy home q...</td>\n",
       "    </tr>\n",
       "    <tr>\n",
       "      <th>2</th>\n",
       "      <td>2</td>\n",
       "      <td>\\n \\n \\n \\n \\n \\n \\n \\n \\n \\n \\n drugshop@dnmx...</td>\n",
       "      <td>Drugs Store - buy Ecstasy, Cocaine, LSD, Meth.</td>\n",
       "      <td>Buy Drugs - Ecstasy, LSD, Meth, Cocaine, Canna...</td>\n",
       "      <td>http://7nroowrqwdgbyajwrynxtypkdi46f22akwki73e...</td>\n",
       "      <td>home catalog question answer cart contact escr...</td>\n",
       "    </tr>\n",
       "    <tr>\n",
       "      <th>3</th>\n",
       "      <td>3</td>\n",
       "      <td>\\n \\n \\n \\n \\n \\n \\n \\n \\n \\n \\n  drugsshopper...</td>\n",
       "      <td>Drugs Shop - buy cannabis best marijuana hemp.</td>\n",
       "      <td>Cannabis - Seeds Cannabis - Drugs Shop hash</td>\n",
       "      <td>http://hpcphv5q3lhiebh6c765lslihne4tn6ui5dnd63...</td>\n",
       "      <td>home catalog question answer cart contact cate...</td>\n",
       "    </tr>\n",
       "    <tr>\n",
       "      <th>4</th>\n",
       "      <td>4</td>\n",
       "      <td>\\n \\n \\n \\n \\n \\n No cookies, no javascript, n...</td>\n",
       "      <td>Drugs Store - buy Ecstasy, Cocaine, LSD, Meth.</td>\n",
       "      <td>DRUGS</td>\n",
       "      <td>http://lnn6isw6tkbmplxe7eisjpf7nw6mmbwc7wjjuyh...</td>\n",
       "      <td>cookie javascript trace protect privacy home q...</td>\n",
       "    </tr>\n",
       "    <tr>\n",
       "      <th>...</th>\n",
       "      <td>...</td>\n",
       "      <td>...</td>\n",
       "      <td>...</td>\n",
       "      <td>...</td>\n",
       "      <td>...</td>\n",
       "      <td>...</td>\n",
       "    </tr>\n",
       "    <tr>\n",
       "      <th>20245</th>\n",
       "      <td>20245</td>\n",
       "      <td>\\n \\n \\n \\n \\n \\n \\n \\n \\n \\n \\n \\n \\n \\n \\n \\...</td>\n",
       "      <td>NaN</td>\n",
       "      <td>On the Internet, Forever-Mutating Debates\\n</td>\n",
       "      <td>https://archive.nytimesn7cgmftshazwhfgzm37qxb4...</td>\n",
       "      <td>january internet forever mutating debates rela...</td>\n",
       "    </tr>\n",
       "    <tr>\n",
       "      <th>20246</th>\n",
       "      <td>20246</td>\n",
       "      <td>\\n \\n \\n \\n \\n \\n \\n \\n \\n \\n \\n \\n \\n \\n \\n \\...</td>\n",
       "      <td>NaN</td>\n",
       "      <td>1997 Technology Highlights</td>\n",
       "      <td>https://archive.nytimesn7cgmftshazwhfgzm37qxb4...</td>\n",
       "      <td>january technology highlights related articles...</td>\n",
       "    </tr>\n",
       "    <tr>\n",
       "      <th>20247</th>\n",
       "      <td>20247</td>\n",
       "      <td>\\n \\n \\n \\n \\n \\n \\n \\n \\n \\n \\n \\n \\n \\n \\n \\...</td>\n",
       "      <td>NaN</td>\n",
       "      <td>Stock Volatility</td>\n",
       "      <td>https://archive.nytimesn7cgmftshazwhfgzm37qxb4...</td>\n",
       "      <td>credit new york times article home site index ...</td>\n",
       "    </tr>\n",
       "    <tr>\n",
       "      <th>20248</th>\n",
       "      <td>20248</td>\n",
       "      <td>\\n \\n \\n \\n \\n \\n \\n \\n \\n \\n \\n \\n \\n \\n \\n \\...</td>\n",
       "      <td>NaN</td>\n",
       "      <td>Wall Street</td>\n",
       "      <td>https://archive.nytimesn7cgmftshazwhfgzm37qxb4...</td>\n",
       "      <td>volatile day volatile year wall street clean n...</td>\n",
       "    </tr>\n",
       "    <tr>\n",
       "      <th>20249</th>\n",
       "      <td>20249</td>\n",
       "      <td>\\n \\n \\n \\n \\n \\n \\n \\n \\n \\n \\n \\n \\n \\n \\n \\...</td>\n",
       "      <td>NaN</td>\n",
       "      <td>Oil Output</td>\n",
       "      <td>https://archive.nytimesn7cgmftshazwhfgzm37qxb4...</td>\n",
       "      <td>credit new york times article home site index ...</td>\n",
       "    </tr>\n",
       "  </tbody>\n",
       "</table>\n",
       "<p>20250 rows × 6 columns</p>\n",
       "</div>"
      ],
      "text/plain": [
       "       Unnamed: 0                                               body  \\\n",
       "0               0  \\n \\n \\n \\n \\n \\n No cookies, no javascript, n...   \n",
       "1               1  \\n \\n \\n \\n \\n \\n No cookies, no javascript, n...   \n",
       "2               2  \\n \\n \\n \\n \\n \\n \\n \\n \\n \\n \\n drugshop@dnmx...   \n",
       "3               3  \\n \\n \\n \\n \\n \\n \\n \\n \\n \\n \\n  drugsshopper...   \n",
       "4               4  \\n \\n \\n \\n \\n \\n No cookies, no javascript, n...   \n",
       "...           ...                                                ...   \n",
       "20245       20245  \\n \\n \\n \\n \\n \\n \\n \\n \\n \\n \\n \\n \\n \\n \\n \\...   \n",
       "20246       20246  \\n \\n \\n \\n \\n \\n \\n \\n \\n \\n \\n \\n \\n \\n \\n \\...   \n",
       "20247       20247  \\n \\n \\n \\n \\n \\n \\n \\n \\n \\n \\n \\n \\n \\n \\n \\...   \n",
       "20248       20248  \\n \\n \\n \\n \\n \\n \\n \\n \\n \\n \\n \\n \\n \\n \\n \\...   \n",
       "20249       20249  \\n \\n \\n \\n \\n \\n \\n \\n \\n \\n \\n \\n \\n \\n \\n \\...   \n",
       "\n",
       "                                          description  \\\n",
       "0      Drugs Store - buy Ecstasy, Cocaine, LSD, Meth.   \n",
       "1      Drugs Store - buy Ecstasy, Cocaine, LSD, Meth.   \n",
       "2      Drugs Store - buy Ecstasy, Cocaine, LSD, Meth.   \n",
       "3      Drugs Shop - buy cannabis best marijuana hemp.   \n",
       "4      Drugs Store - buy Ecstasy, Cocaine, LSD, Meth.   \n",
       "...                                               ...   \n",
       "20245                                             NaN   \n",
       "20246                                             NaN   \n",
       "20247                                             NaN   \n",
       "20248                                             NaN   \n",
       "20249                                             NaN   \n",
       "\n",
       "                                                   title  \\\n",
       "0                                          Cocaine Drugs   \n",
       "1                                               Cannabis   \n",
       "2      Buy Drugs - Ecstasy, LSD, Meth, Cocaine, Canna...   \n",
       "3            Cannabis - Seeds Cannabis - Drugs Shop hash   \n",
       "4                                                  DRUGS   \n",
       "...                                                  ...   \n",
       "20245    On the Internet, Forever-Mutating Debates\\n       \n",
       "20246                         1997 Technology Highlights   \n",
       "20247                                   Stock Volatility   \n",
       "20248                                        Wall Street   \n",
       "20249                                         Oil Output   \n",
       "\n",
       "                                                     url  \\\n",
       "0      http://fc3ryhftqfgwyroq7pt63f7jif4jknfrmd3pbdw...   \n",
       "1      http://r3q6nxpmfdxhzz3oumaseyfr5qujvg4cayzvj2y...   \n",
       "2      http://7nroowrqwdgbyajwrynxtypkdi46f22akwki73e...   \n",
       "3      http://hpcphv5q3lhiebh6c765lslihne4tn6ui5dnd63...   \n",
       "4      http://lnn6isw6tkbmplxe7eisjpf7nw6mmbwc7wjjuyh...   \n",
       "...                                                  ...   \n",
       "20245  https://archive.nytimesn7cgmftshazwhfgzm37qxb4...   \n",
       "20246  https://archive.nytimesn7cgmftshazwhfgzm37qxb4...   \n",
       "20247  https://archive.nytimesn7cgmftshazwhfgzm37qxb4...   \n",
       "20248  https://archive.nytimesn7cgmftshazwhfgzm37qxb4...   \n",
       "20249  https://archive.nytimesn7cgmftshazwhfgzm37qxb4...   \n",
       "\n",
       "                                    cleaned_website_text  \n",
       "0      cookie javascript trace protect privacy home q...  \n",
       "1      cookie javascript trace protect privacy home q...  \n",
       "2      home catalog question answer cart contact escr...  \n",
       "3      home catalog question answer cart contact cate...  \n",
       "4      cookie javascript trace protect privacy home q...  \n",
       "...                                                  ...  \n",
       "20245  january internet forever mutating debates rela...  \n",
       "20246  january technology highlights related articles...  \n",
       "20247  credit new york times article home site index ...  \n",
       "20248  volatile day volatile year wall street clean n...  \n",
       "20249  credit new york times article home site index ...  \n",
       "\n",
       "[20250 rows x 6 columns]"
      ]
     },
     "execution_count": 13,
     "metadata": {},
     "output_type": "execute_result"
    }
   ],
   "source": [
    "data=pd.read_csv('dataset/crawledcleaned.csv')\n",
    "data"
   ]
  },
  {
   "cell_type": "code",
   "execution_count": 14,
   "id": "05ae834c",
   "metadata": {},
   "outputs": [
    {
     "data": {
      "text/plain": [
       "Unnamed: 0                 0\n",
       "body                       0\n",
       "description             2539\n",
       "title                      0\n",
       "url                        0\n",
       "cleaned_website_text      16\n",
       "dtype: int64"
      ]
     },
     "execution_count": 14,
     "metadata": {},
     "output_type": "execute_result"
    }
   ],
   "source": [
    "data.isnull().sum()"
   ]
  },
  {
   "cell_type": "code",
   "execution_count": 15,
   "id": "58206be6",
   "metadata": {},
   "outputs": [
    {
     "data": {
      "text/plain": [
       "Unnamed: 0                 0\n",
       "body                       0\n",
       "description             2530\n",
       "title                      0\n",
       "url                        0\n",
       "cleaned_website_text       0\n",
       "dtype: int64"
      ]
     },
     "execution_count": 15,
     "metadata": {},
     "output_type": "execute_result"
    }
   ],
   "source": [
    "data.dropna(subset=['cleaned_website_text'],inplace=True)\n",
    "data.isnull().sum()"
   ]
  },
  {
   "cell_type": "code",
   "execution_count": 16,
   "id": "b87e63a6",
   "metadata": {},
   "outputs": [
    {
     "name": "stdout",
     "output_type": "stream",
     "text": [
      "323\n"
     ]
    },
    {
     "data": {
      "text/plain": [
       "drug        11745\n",
       "non drug     8489\n",
       "Name: category, dtype: int64"
      ]
     },
     "execution_count": 16,
     "metadata": {},
     "output_type": "execute_result"
    }
   ],
   "source": [
    "from flashtext.keyword import KeywordProcessor\n",
    "kp0=KeywordProcessor()\n",
    "c=0\n",
    "for word in oglist:\n",
    "    kp0.add_keyword(word)\n",
    "    c=c+1\n",
    "print(c)\n",
    "def percentage1(dum0,dumx):\n",
    "    try:\n",
    "        ans=float(dumx)/float(dum0)\n",
    "        ans=ans*100\n",
    "    except:\n",
    "        return 0\n",
    "    else:\n",
    "        return ans\n",
    "def find_category(x):\n",
    "    try:\n",
    "        Total_matches=kp0.extract_keywords(x)\n",
    "        y0=len(Total_matches)\n",
    "        n=len(x)\n",
    "        per=percentage1(n,y0)\n",
    "        if y0==0:\n",
    "            matched_catkeywords='None'\n",
    "        matched_catkeywords=Total_matches\n",
    "        return y0,matched_catkeywords,per\n",
    "    except:\n",
    "        print(x)\n",
    "Total=[]\n",
    "words=[]\n",
    "per=[]\n",
    "df=data\n",
    "for i in df['cleaned_website_text']:\n",
    "    Total.append(find_category(i)[0])\n",
    "    words.append(find_category(i)[1])\n",
    "    per.append(find_category(i)[2])\n",
    "df['no of matched keywords']=Total\n",
    "df['words matched']=words\n",
    "df['percent']=per\n",
    "cat=[]\n",
    "for i in per:\n",
    "    if i>0:\n",
    "        cat.append(\"drug\")\n",
    "    else:\n",
    "        cat.append(\"non drug\")\n",
    "    \n",
    "df['category']=cat\n",
    "df['category'].value_counts()"
   ]
  },
  {
   "cell_type": "code",
   "execution_count": 17,
   "id": "6abd998e",
   "metadata": {},
   "outputs": [],
   "source": [
    "df.to_csv(\"datawithoglist.csv\")"
   ]
  },
  {
   "cell_type": "code",
   "execution_count": 18,
   "id": "d8c5fb21",
   "metadata": {},
   "outputs": [
    {
     "name": "stdout",
     "output_type": "stream",
     "text": [
      "1862\n"
     ]
    },
    {
     "name": "stderr",
     "output_type": "stream",
     "text": [
      "100%|████████████████████████████████████████████████████████████████████████████| 20234/20234 [03:38<00:00, 92.47it/s]\n"
     ]
    },
    {
     "data": {
      "text/plain": [
       "drug        20091\n",
       "non drug      143\n",
       "Name: category, dtype: int64"
      ]
     },
     "execution_count": 18,
     "metadata": {},
     "output_type": "execute_result"
    }
   ],
   "source": [
    "kp0=KeywordProcessor()\n",
    "c=0\n",
    "for word in smote:\n",
    "    kp0.add_keyword(word)\n",
    "    c=c+1\n",
    "print(c)\n",
    "def percentage1(dum0,dumx):\n",
    "    try:\n",
    "        ans=float(dumx)/float(dum0)\n",
    "        ans=ans*100\n",
    "    except:\n",
    "        return 0\n",
    "    else:\n",
    "        return ans\n",
    "def find_category(x):\n",
    "    try:\n",
    "        Total_matches=kp0.extract_keywords(x)\n",
    "        y0=len(Total_matches)\n",
    "        n=len(x)\n",
    "        per=percentage1(n,y0)\n",
    "        if y0==0:\n",
    "            matched_catkeywords='None'\n",
    "        matched_catkeywords=Total_matches\n",
    "        return y0,matched_catkeywords,per\n",
    "    except:\n",
    "        print(x)\n",
    "Total=[]\n",
    "words=[]\n",
    "per=[]\n",
    "df1=data\n",
    "for i in tqdm(df1['cleaned_website_text']):\n",
    "    Total.append(find_category(i)[0])\n",
    "    words.append(find_category(i)[1])\n",
    "    per.append(find_category(i)[2])\n",
    "df1['no of matched keywords']=Total\n",
    "df1['words matched']=words\n",
    "df1['percent']=per\n",
    "cat=[]\n",
    "for i in per:\n",
    "    if i>0:\n",
    "        cat.append(\"drug\")\n",
    "    else:\n",
    "        cat.append(\"non drug\")\n",
    "    \n",
    "df1['category']=cat\n",
    "df1['category'].value_counts()"
   ]
  },
  {
   "cell_type": "code",
   "execution_count": null,
   "id": "52558598",
   "metadata": {},
   "outputs": [],
   "source": [
    "# df.to_csv(\"datawithsmote.csv\")"
   ]
  },
  {
   "cell_type": "code",
   "execution_count": 19,
   "id": "18c77b06",
   "metadata": {},
   "outputs": [
    {
     "name": "stdout",
     "output_type": "stream",
     "text": [
      "616\n"
     ]
    },
    {
     "name": "stderr",
     "output_type": "stream",
     "text": [
      "100%|███████████████████████████████████████████████████████████████████████████| 20234/20234 [03:12<00:00, 105.04it/s]\n"
     ]
    },
    {
     "data": {
      "text/plain": [
       "drug        17565\n",
       "non drug     2669\n",
       "Name: category, dtype: int64"
      ]
     },
     "execution_count": 19,
     "metadata": {},
     "output_type": "execute_result"
    }
   ],
   "source": [
    "from flashtext.keyword import KeywordProcessor\n",
    "kp0=KeywordProcessor()\n",
    "c=0\n",
    "for word in cossmote:\n",
    "    kp0.add_keyword(word)\n",
    "    c=c+1\n",
    "print(c)\n",
    "def percentage1(dum0,dumx):\n",
    "    try:\n",
    "        ans=float(dumx)/float(dum0)\n",
    "        ans=ans*100\n",
    "    except:\n",
    "        return 0\n",
    "    else:\n",
    "        return ans\n",
    "def find_category(x):\n",
    "    try:\n",
    "        Total_matches=kp0.extract_keywords(x)\n",
    "        y0=len(Total_matches)\n",
    "        n=len(x)\n",
    "        per=percentage1(n,y0)\n",
    "        if y0==0:\n",
    "            matched_catkeywords='None'\n",
    "        matched_catkeywords=Total_matches\n",
    "        return y0,matched_catkeywords,per\n",
    "    except:\n",
    "        print(x)\n",
    "Total=[]\n",
    "words=[]\n",
    "per=[]\n",
    "df2=data\n",
    "for i in tqdm(df2['cleaned_website_text']):\n",
    "    Total.append(find_category(i)[0])\n",
    "    words.append(find_category(i)[1])\n",
    "    per.append(find_category(i)[2])\n",
    "df2['no of matched keywords']=Total\n",
    "df2['words matched']=words\n",
    "df2['percent']=per\n",
    "cat=[]\n",
    "for i in per:\n",
    "    if i>0:\n",
    "        cat.append(\"drug\")\n",
    "    else:\n",
    "        cat.append(\"non drug\")\n",
    "    \n",
    "df2['category']=cat\n",
    "df2['category'].value_counts()"
   ]
  },
  {
   "cell_type": "code",
   "execution_count": null,
   "id": "0b10a5ee",
   "metadata": {},
   "outputs": [],
   "source": [
    "# df.to_csv(\"datawithcossmote.csv\")"
   ]
  },
  {
   "cell_type": "code",
   "execution_count": 21,
   "id": "a30c4390",
   "metadata": {},
   "outputs": [
    {
     "name": "stdout",
     "output_type": "stream",
     "text": [
      "261\n"
     ]
    },
    {
     "name": "stderr",
     "output_type": "stream",
     "text": [
      "100%|███████████████████████████████████████████████████████████████████████████| 20234/20234 [03:14<00:00, 104.25it/s]\n"
     ]
    },
    {
     "data": {
      "text/plain": [
       "drug        18466\n",
       "non drug     1768\n",
       "Name: category, dtype: int64"
      ]
     },
     "execution_count": 21,
     "metadata": {},
     "output_type": "execute_result"
    }
   ],
   "source": [
    "from flashtext.keyword import KeywordProcessor\n",
    "kp0=KeywordProcessor()\n",
    "c=0\n",
    "for word in cleanog:\n",
    "    kp0.add_keyword(word)\n",
    "    c=c+1\n",
    "print(c)\n",
    "def percentage1(dum0,dumx):\n",
    "    try:\n",
    "        ans=float(dumx)/float(dum0)\n",
    "        ans=ans*100\n",
    "    except:\n",
    "        return 0\n",
    "    else:\n",
    "        return ans\n",
    "def find_category(x):\n",
    "    try:\n",
    "        Total_matches=kp0.extract_keywords(x)\n",
    "        y0=len(Total_matches)\n",
    "        n=len(x)\n",
    "        per=percentage1(n,y0)\n",
    "        if y0==0:\n",
    "            matched_catkeywords='None'\n",
    "        matched_catkeywords=Total_matches\n",
    "        return y0,matched_catkeywords,per\n",
    "    except:\n",
    "        print(x)\n",
    "Total=[]\n",
    "words=[]\n",
    "per=[]\n",
    "df3=data\n",
    "for i in tqdm(df3['cleaned_website_text']):\n",
    "    Total.append(find_category(i)[0])\n",
    "    words.append(find_category(i)[1])\n",
    "    per.append(find_category(i)[2])\n",
    "df3['no of matched keywords']=Total\n",
    "df3['words matched']=words\n",
    "df3['percent']=per\n",
    "cat=[]\n",
    "for i in per:\n",
    "    if i>0:\n",
    "        cat.append(\"drug\")\n",
    "    else:\n",
    "        cat.append(\"non drug\")\n",
    "    \n",
    "df3['category']=cat\n",
    "df3['category'].value_counts()"
   ]
  },
  {
   "cell_type": "code",
   "execution_count": 22,
   "id": "eb296c85",
   "metadata": {},
   "outputs": [],
   "source": [
    "df3.to_csv(\"datawithcleanog.csv\")"
   ]
  },
  {
   "cell_type": "code",
   "execution_count": null,
   "id": "d1c7ab89",
   "metadata": {},
   "outputs": [],
   "source": []
  }
 ],
 "metadata": {
  "kernelspec": {
   "display_name": "Python 3 (ipykernel)",
   "language": "python",
   "name": "python3"
  },
  "language_info": {
   "codemirror_mode": {
    "name": "ipython",
    "version": 3
   },
   "file_extension": ".py",
   "mimetype": "text/x-python",
   "name": "python",
   "nbconvert_exporter": "python",
   "pygments_lexer": "ipython3",
   "version": "3.10.0"
  }
 },
 "nbformat": 4,
 "nbformat_minor": 5
}
